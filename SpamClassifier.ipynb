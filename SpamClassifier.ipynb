{
 "cells": [
  {
   "cell_type": "code",
   "execution_count": 1,
   "metadata": {},
   "outputs": [],
   "source": [
    "import nltk\n",
    "import pandas as pd\n",
    "import string\n",
    "from nltk.corpus import stopwords\n",
    "from sklearn.feature_extraction.text import CountVectorizer\n",
    "from sklearn.model_selection import train_test_split\n",
    "from sklearn.tree import DecisionTreeClassifier\n",
    "from sklearn.metrics import classification_report"
   ]
  },
  {
   "cell_type": "code",
   "execution_count": 3,
   "metadata": {},
   "outputs": [
    {
     "name": "stderr",
     "output_type": "stream",
     "text": [
      "[nltk_data] Downloading package stopwords to\n",
      "[nltk_data]     /Users/Marcelo/nltk_data...\n",
      "[nltk_data]   Package stopwords is already up-to-date!\n"
     ]
    },
    {
     "data": {
      "text/plain": [
       "True"
      ]
     },
     "execution_count": 3,
     "metadata": {},
     "output_type": "execute_result"
    }
   ],
   "source": [
    "df = pd.read_csv(\"emails.csv\")\n",
    "\n",
    "nltk.download(\"stopwords\")"
   ]
  },
  {
   "cell_type": "code",
   "execution_count": 4,
   "metadata": {},
   "outputs": [
    {
     "data": {
      "text/html": [
       "<div>\n",
       "<style scoped>\n",
       "    .dataframe tbody tr th:only-of-type {\n",
       "        vertical-align: middle;\n",
       "    }\n",
       "\n",
       "    .dataframe tbody tr th {\n",
       "        vertical-align: top;\n",
       "    }\n",
       "\n",
       "    .dataframe thead th {\n",
       "        text-align: right;\n",
       "    }\n",
       "</style>\n",
       "<table border=\"1\" class=\"dataframe\">\n",
       "  <thead>\n",
       "    <tr style=\"text-align: right;\">\n",
       "      <th></th>\n",
       "      <th>text</th>\n",
       "      <th>spam</th>\n",
       "    </tr>\n",
       "  </thead>\n",
       "  <tbody>\n",
       "    <tr>\n",
       "      <th>0</th>\n",
       "      <td>Subject: naturally irresistible your corporate...</td>\n",
       "      <td>1</td>\n",
       "    </tr>\n",
       "    <tr>\n",
       "      <th>1</th>\n",
       "      <td>Subject: the stock trading gunslinger  fanny i...</td>\n",
       "      <td>1</td>\n",
       "    </tr>\n",
       "    <tr>\n",
       "      <th>2</th>\n",
       "      <td>Subject: unbelievable new homes made easy  im ...</td>\n",
       "      <td>1</td>\n",
       "    </tr>\n",
       "    <tr>\n",
       "      <th>3</th>\n",
       "      <td>Subject: 4 color printing special  request add...</td>\n",
       "      <td>1</td>\n",
       "    </tr>\n",
       "    <tr>\n",
       "      <th>4</th>\n",
       "      <td>Subject: do not have money , get software cds ...</td>\n",
       "      <td>1</td>\n",
       "    </tr>\n",
       "  </tbody>\n",
       "</table>\n",
       "</div>"
      ],
      "text/plain": [
       "                                                text  spam\n",
       "0  Subject: naturally irresistible your corporate...     1\n",
       "1  Subject: the stock trading gunslinger  fanny i...     1\n",
       "2  Subject: unbelievable new homes made easy  im ...     1\n",
       "3  Subject: 4 color printing special  request add...     1\n",
       "4  Subject: do not have money , get software cds ...     1"
      ]
     },
     "execution_count": 4,
     "metadata": {},
     "output_type": "execute_result"
    }
   ],
   "source": [
    "df.head()"
   ]
  },
  {
   "cell_type": "code",
   "execution_count": 5,
   "metadata": {},
   "outputs": [],
   "source": [
    "def extract_punctuations(text):\n",
    "    text_without_punctuation = [character for character in text if character not in string.punctuation]\n",
    "    text_without_punctuation = ''.join(text_without_punctuation)\n",
    "\n",
    "    return text_without_punctuation\n",
    "\n",
    "\n",
    "def extract_stopwords(text):\n",
    "    text_without_stop_words = [word for word in extract_punctuations(text).split() if word.lower() not in stopwords.words(\"english\")]\n",
    "\n",
    "    return text_without_stop_words"
   ]
  },
  {
   "cell_type": "code",
   "execution_count": 8,
   "metadata": {},
   "outputs": [
    {
     "name": "stdout",
     "output_type": "stream",
     "text": [
      "0    [Subject, naturally, irresistible, corporate, ...\n",
      "1    [Subject, stock, trading, gunslinger, fanny, m...\n",
      "2    [Subject, unbelievable, new, homes, made, easy...\n",
      "3    [Subject, 4, color, printing, special, request...\n",
      "4    [Subject, money, get, software, cds, software,...\n",
      "Name: text, dtype: object\n",
      "Done Applying function\n"
     ]
    }
   ],
   "source": [
    "print(df[\"text\"].head().apply(extract_stopwords))\n",
    "\n",
    "message = CountVectorizer(analyzer=extract_stopwords).fit_transform(df[\"text\"])\n",
    "print(\"Done Applying function\")"
   ]
  },
  {
   "cell_type": "code",
   "execution_count": 9,
   "metadata": {},
   "outputs": [],
   "source": [
    "xtrain, xtest, ytrain, ytest = train_test_split(message, df['spam'], test_size=0.20, random_state=0)"
   ]
  },
  {
   "cell_type": "code",
   "execution_count": 10,
   "metadata": {},
   "outputs": [
    {
     "name": "stdout",
     "output_type": "stream",
     "text": [
      "Decision Tree Classifier Classification Report\n",
      "              precision    recall  f1-score   support\n",
      "\n",
      "           0       1.00      1.00      1.00      3475\n",
      "           1       1.00      1.00      1.00      1107\n",
      "\n",
      "    accuracy                           1.00      4582\n",
      "   macro avg       1.00      1.00      1.00      4582\n",
      "weighted avg       1.00      1.00      1.00      4582\n",
      "\n",
      "              precision    recall  f1-score   support\n",
      "\n",
      "           0       0.97      0.98      0.97       885\n",
      "           1       0.91      0.89      0.90       261\n",
      "\n",
      "    accuracy                           0.96      1146\n",
      "   macro avg       0.94      0.93      0.94      1146\n",
      "weighted avg       0.96      0.96      0.96      1146\n",
      "\n"
     ]
    }
   ],
   "source": [
    "# setting model Decision Tree Classifier\n",
    "\n",
    "classifier_DT = DecisionTreeClassifier()\n",
    "classifier_DT.fit(xtrain, ytrain)\n",
    "\n",
    "# Setting up the model's report\n",
    "\n",
    "print(\"Decision Tree Classifier Classification Report\")\n",
    "\n",
    "predicateTraining_DT = classifier_DT.predict(xtrain)\n",
    "print(classification_report(ytrain, predicateTraining_DT))\n",
    "\n",
    "predicateTest_DT = classifier_DT.predict(xtest)\n",
    "print(classification_report(ytest, predicateTest_DT))"
   ]
  }
 ],
 "metadata": {
  "kernelspec": {
   "display_name": "Python 3.9.13 ('base')",
   "language": "python",
   "name": "python3"
  },
  "language_info": {
   "codemirror_mode": {
    "name": "ipython",
    "version": 3
   },
   "file_extension": ".py",
   "mimetype": "text/x-python",
   "name": "python",
   "nbconvert_exporter": "python",
   "pygments_lexer": "ipython3",
   "version": "3.9.13"
  },
  "orig_nbformat": 4,
  "vscode": {
   "interpreter": {
    "hash": "70fb4ba9a017521a1e3335c8877e618947e0cc44a3def1c62c35057e5085c9ad"
   }
  }
 },
 "nbformat": 4,
 "nbformat_minor": 2
}
